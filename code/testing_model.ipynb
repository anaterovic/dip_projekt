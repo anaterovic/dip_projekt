{
 "cells": [
  {
   "cell_type": "code",
   "execution_count": null,
   "metadata": {},
   "outputs": [],
   "source": [
    "import json\n",
    "import numpy\n",
    "import pandas as pd\n",
    "\n",
    "import math\n",
    "import keras\n",
    "import sklearn.model_selection\n",
    "import os\n",
    "import cv2\n",
    "import matplotlib.pyplot\n",
    "get_ipython().run_line_magic('matplotlib', 'inline')\n",
    "from keras.models import model_from_json\n",
    "from tensorflow.keras.utils import load_img \n",
    "from tensorflow.keras.utils import img_to_array\n",
    "import random\n",
    "import tensorflow as tf\n",
    "from PIL import Image"
   ]
  },
  {
   "cell_type": "markdown",
   "metadata": {},
   "source": [
    "## Testing model"
   ]
  },
  {
   "cell_type": "code",
   "execution_count": null,
   "metadata": {},
   "outputs": [],
   "source": [
    "\n",
    "# load json and create model\n",
    "json_file = open('model_888989.json', 'r')\n",
    "loaded_model_json = json_file.read()\n",
    "json_file.close()\n",
    "loaded_model = model_from_json(loaded_model_json)\n",
    "# load weights into new model\n",
    "weights = loaded_model.load_weights(\"model_888989.h5\")\n",
    "print(\"Loaded model\")"
   ]
  },
  {
   "attachments": {},
   "cell_type": "markdown",
   "metadata": {},
   "source": [
    "Add image path to IMAGE_PATH:"
   ]
  },
  {
   "cell_type": "code",
   "execution_count": null,
   "metadata": {},
   "outputs": [],
   "source": [
    "\n",
    "imageResizeFactor = math.gcd(2560, 1440)/4 # HCF/GCD is 160 for annotated images\n",
    "newImageDim1 = int(2560/imageResizeFactor)\n",
    "newImageDim2 = int(1440/imageResizeFactor)\n",
    "RGB = 3\n",
    "\n",
    "imageArray = cv2.imread(os.path.join(r\"IMAGE_PATH\"))\n",
    "\n",
    "\n",
    "imageArray = cv2.resize(imageArray,(newImageDim2,newImageDim1)) # for some reason, will ask Farzaneh\n",
    "imageArray = imageArray.astype('float32')\n",
    "imageArray = imageArray/255\n"
   ]
  },
  {
   "cell_type": "markdown",
   "metadata": {},
   "source": [
    "\n",
    "Evaluated metrics:\n"
   ]
  },
  {
   "cell_type": "code",
   "execution_count": null,
   "metadata": {},
   "outputs": [],
   "source": [
    "\n",
    "matplotlib.pyplot.imshow(imageArray)\n",
    "\n",
    "predRM = loaded_model.predict(imageArray.reshape(1,newImageDim1,newImageDim2,3))[0]\n",
    "predCM = loaded_model.predict(imageArray.reshape(1,newImageDim1,newImageDim2,3))[1]\n",
    "predTTM = loaded_model.predict(imageArray.reshape(1,newImageDim1,newImageDim2,3))[2]\n",
    "\n",
    "print(\"This screenshot is predicted to have RM=  \" + str(predRM[0][0]))\n",
    "print(\"This screenshot is predicted to have CM=  \" + str(predCM[0][0]))\n",
    "print(\"This screenshot is predicted to have TTM=  \" + str(predTTM[0][0]))"
   ]
  }
 ],
 "metadata": {
  "kernelspec": {
   "display_name": "Python 3",
   "language": "python",
   "name": "python3"
  },
  "language_info": {
   "name": "python",
   "version": "3.10.3 (tags/v3.10.3:a342a49, Mar 16 2022, 13:07:40) [MSC v.1929 64 bit (AMD64)]"
  },
  "orig_nbformat": 4,
  "vscode": {
   "interpreter": {
    "hash": "df87b94f50c6b8081a9a425f6ade537f06441a824b7d68371eb29c5a5eb2838b"
   }
  }
 },
 "nbformat": 4,
 "nbformat_minor": 2
}
